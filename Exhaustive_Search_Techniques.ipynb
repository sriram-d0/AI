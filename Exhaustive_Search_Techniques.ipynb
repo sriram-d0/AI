{
  "cells": [
    {
      "cell_type": "markdown",
      "metadata": {
        "id": "2aeb4d0e"
      },
      "source": [
        "# **DFS**\n",
        "   \n",
        "        "
      ],
      "id": "2aeb4d0e"
    },
    {
      "cell_type": "code",
      "source": [
        "def DFS(graph,start,goal):\n",
        "    visited=[]\n",
        "    frontier=[]\n",
        "    parent = []\n",
        "    parent.append((start,None,0))\n",
        "    visited.append(start)\n",
        "    frontier.append(start)\n",
        "    pathcost=0\n",
        "    while frontier:\n",
        "        node=frontier.pop()\n",
        "        if node==goal:\n",
        "            print(\"\\nGoal Node Found\")\n",
        "            break;\n",
        "        print(node,end=' ')\n",
        "        for neighbour in graph[node]:\n",
        "            if neighbour not in visited:\n",
        "                visited.append(neighbour)\n",
        "                frontier.append(neighbour)\n",
        "                pathcost += graph[node][neighbour]\n",
        "                parent.append((neighbour,node,pathcost))\n",
        "    print(\"\\nPath Cost is :\",pathcost)\n",
        "    return tuple(parent)\n",
        "\n",
        "graph = {\n",
        "    'S': {'A': 1, 'B': 2},\n",
        "    'A': {'C': 4, 'D': 5},\n",
        "    'B': {},\n",
        "    'C': {},\n",
        "    'D': {}\n",
        "}\n",
        "DFS(graph,'S',' ')"
      ],
      "metadata": {
        "colab": {
          "base_uri": "https://localhost:8080/"
        },
        "id": "hf_cmAI6bPxn",
        "outputId": "f2f01236-d78e-40b8-b349-cc84c07f42e5"
      },
      "id": "hf_cmAI6bPxn",
      "execution_count": 3,
      "outputs": [
        {
          "output_type": "stream",
          "name": "stdout",
          "text": [
            "S B A D C \n",
            "Path Cost is : 12\n"
          ]
        },
        {
          "output_type": "execute_result",
          "data": {
            "text/plain": [
              "(('S', None, 0), ('A', 'S', 1), ('B', 'S', 3), ('C', 'A', 7), ('D', 'A', 12))"
            ]
          },
          "metadata": {},
          "execution_count": 3
        }
      ]
    },
    {
      "cell_type": "markdown",
      "metadata": {
        "id": "a3f1df8b"
      },
      "source": [
        "# **BFS**"
      ],
      "id": "a3f1df8b"
    },
    {
      "cell_type": "code",
      "source": [
        "def BFS(graph,start,goal):\n",
        "    visited=[]\n",
        "    frontier=[]\n",
        "    parent = []\n",
        "    parent.append((start,None,0))\n",
        "    visited.append(start)\n",
        "    frontier.append(start)\n",
        "    pathcost=0\n",
        "    while frontier:\n",
        "        node=frontier.pop(0)\n",
        "        if node==goal:\n",
        "            print(\"\\nGoal Node Found\")\n",
        "            break;\n",
        "        print(node,end=' ')\n",
        "        for neighbour in graph[node]:\n",
        "            if neighbour not in visited:\n",
        "                visited.append(neighbour)\n",
        "                frontier.append(neighbour)\n",
        "                pathcost += graph[node][neighbour]\n",
        "                parent.append((neighbour,node,pathcost))\n",
        "    print(\"\\nPath Cost is :\",pathcost)\n",
        "    return tuple(parent)\n",
        "\n",
        "graph = {\n",
        "    'S': {'A': 1, 'B': 2},\n",
        "    'A': {'C': 4, 'D': 5},\n",
        "    'B': {},\n",
        "    'C': {},\n",
        "    'D': {}\n",
        "}\n",
        "BFS(graph,'S',' ')"
      ],
      "metadata": {
        "colab": {
          "base_uri": "https://localhost:8080/"
        },
        "id": "UTH-8Ji4bauj",
        "outputId": "88d3dcf7-496a-4688-8dda-e6ebb0bd43a0"
      },
      "id": "UTH-8Ji4bauj",
      "execution_count": 4,
      "outputs": [
        {
          "output_type": "stream",
          "name": "stdout",
          "text": [
            "S A B C D \n",
            "Path Cost is : 12\n"
          ]
        },
        {
          "output_type": "execute_result",
          "data": {
            "text/plain": [
              "(('S', None, 0), ('A', 'S', 1), ('B', 'S', 3), ('C', 'A', 7), ('D', 'A', 12))"
            ]
          },
          "metadata": {},
          "execution_count": 4
        }
      ]
    },
    {
      "cell_type": "markdown",
      "metadata": {
        "id": "lkyx9U8ZIECS"
      },
      "source": [
        "# **UCS**"
      ],
      "id": "lkyx9U8ZIECS"
    },
    {
      "cell_type": "code",
      "execution_count": null,
      "metadata": {
        "colab": {
          "base_uri": "https://localhost:8080/"
        },
        "id": "1q5rrBAxIG64",
        "outputId": "0cd737ed-25b5-469a-881d-25a75be85db0"
      },
      "outputs": [
        {
          "name": "stdout",
          "output_type": "stream",
          "text": [
            "Node:  S  Parent:  None  Cost:  0\n",
            "Node:  A  Parent:  S  Cost:  1\n",
            "Node:  B  Parent:  S  Cost:  3\n",
            "Node:  G  Parent:  A  Cost:  4\n",
            "\n",
            "Goal node found\n"
          ]
        }
      ],
      "source": [
        "def sortf(frontier):\n",
        "    n=len(frontier)\n",
        "    for i in range(n):\n",
        "        min=i\n",
        "        for j in range(i+1,n):\n",
        "            if frontier[j][2]<frontier[min][2]:\n",
        "                min = j\n",
        "        frontier[i],frontier[min]=frontier[min],frontier[i]\n",
        "\n",
        "def ucs(graph,start,goal):\n",
        "    explored=[]\n",
        "    frontier=[]\n",
        "    frontier.append([start,None,0])\n",
        "\n",
        "    while frontier:\n",
        "        sortf(frontier)\n",
        "        node,parent,cost=frontier.pop(0)\n",
        "        print(\"Node: \",node,\" Parent: \",parent, \" Cost: \",cost,end=\"\\n\")\n",
        "\n",
        "        if node==goal:\n",
        "            print(\"\\nGoal node found\")\n",
        "            break\n",
        "\n",
        "        if node not in explored:\n",
        "            explored.append(node)\n",
        "\n",
        "            for neighbor in graph[node]:\n",
        "                if neighbor not in explored:\n",
        "                    neighbor_cost=cost+graph[node][neighbor]\n",
        "                    frontier.append([neighbor,node,neighbor_cost])\n",
        "\n",
        "    if node!=goal:\n",
        "        print(\"Goal node not found\")\n",
        "\n",
        "\n",
        "\n",
        "graph = {\n",
        "        'S': {'A': 1, 'B': 3, 'C': 5},\n",
        "        'A': {'G': 3},\n",
        "        'G': {},\n",
        "        'B': {'F': 5},\n",
        "        'F': {},\n",
        "        'C': {'E': 2},\n",
        "        'E': {'H': 1},\n",
        "        'H': {}\n",
        "}\n",
        "ucs(graph, 'S', 'G')"
      ],
      "id": "1q5rrBAxIG64"
    },
    {
      "cell_type": "markdown",
      "metadata": {
        "id": "lm70zo_TeToQ"
      },
      "source": [
        "# **Bi-Directional Search**"
      ],
      "id": "lm70zo_TeToQ"
    },
    {
      "cell_type": "code",
      "execution_count": null,
      "metadata": {
        "colab": {
          "base_uri": "https://localhost:8080/"
        },
        "id": "R6DYJeYSTfcv",
        "outputId": "726d9e2f-b894-4bdd-dbe8-d206f3cba2bb"
      },
      "outputs": [
        {
          "name": "stdout",
          "output_type": "stream",
          "text": [
            "{     0: [1, 2],     1: [0, 3],     2: [0, 3, 4],     3: [1, 2, 5],     4: [2, 5],     5: [3, 4] }\n",
            "Enter Start node: 0\n",
            "Enter goal node: 5\n",
            "\n",
            "\n",
            "\n",
            "Intersection :  4\n",
            "[0, 2, 4]\n",
            "[5, 3, 4]\n"
          ]
        }
      ],
      "source": [
        "def Bidirectional(graph,start,goal):\n",
        "    visited_s=[]\n",
        "    frontier_s=[]\n",
        "    visited_s.append(start)\n",
        "    frontier_s.append(start)\n",
        "\n",
        "    visited_f=[]\n",
        "    frontier_f=[]\n",
        "    visited_f.append(goal)\n",
        "    frontier_f.append(goal)\n",
        "\n",
        "    vi_s=[]\n",
        "    vi_f=[]\n",
        "    while frontier_s or frontier_f:\n",
        "      if frontier_s:\n",
        "        node_s=frontier_s.pop(0)\n",
        "        vi_s.append(node_s)\n",
        "        for i in graph[node_s]:\n",
        "            if i not in visited_s:\n",
        "                visited_s.append(i)\n",
        "                frontier_s.append(i)\n",
        "      if frontier_f:\n",
        "        node_f=frontier_f.pop()\n",
        "        vi_f.append(node_f)\n",
        "        for i in graph[node_f]:\n",
        "            if i not in visited_f:\n",
        "                visited_f.append(i)\n",
        "                frontier_f.append(i)\n",
        "      if node_s==node_f:\n",
        "        print(\"\\nIntersection : \",node_s)\n",
        "        break\n",
        "    print(vi_s)\n",
        "    print(vi_f)\n",
        "graph = eval(input())\n",
        "\n",
        "s = int(input(\"Enter Start node: \"))\n",
        "g = int(input(\"Enter goal node: \"))\n",
        "print(\"\\n\")\n",
        "Bidirectional(graph,s, g)"
      ],
      "id": "R6DYJeYSTfcv"
    },
    {
      "cell_type": "code",
      "execution_count": null,
      "metadata": {
        "id": "OcE58LEdeFZL"
      },
      "outputs": [],
      "source": [
        "{     0: [1, 2],     1: [0, 3],     2: [0, 3, 4],     3: [1, 2, 5],     4: [2, 5],     5: [3, 4] }"
      ],
      "id": "OcE58LEdeFZL"
    },
    {
      "cell_type": "code",
      "execution_count": null,
      "metadata": {
        "colab": {
          "base_uri": "https://localhost:8080/"
        },
        "id": "N5CwjwBhi7KB",
        "outputId": "2dec4a00-b2ab-41e7-c4a4-ce175631372b"
      },
      "outputs": [
        {
          "name": "stdout",
          "output_type": "stream",
          "text": [
            "Intersection: 3\n",
            "Path from start: [0, 1, 3]\n",
            "Path from goal: [5]\n",
            "Path found: [0, 1, 3, 5]\n"
          ]
        }
      ],
      "source": [
        "def bidirectional_bfs(graph, start, goal):\n",
        "    if start == goal:\n",
        "        return [start]\n",
        "    visited_start={start}\n",
        "    visited_end={goal}\n",
        "    frontier_start=[start]\n",
        "    frontier_end=[goal]\n",
        "\n",
        "    while frontier_start and frontier_end:\n",
        "        # Explore from start node\n",
        "        new_frontier_start=[]\n",
        "        for node in frontier_start:\n",
        "            for neighbor in graph[node]:\n",
        "                if neighbor not in visited_start:\n",
        "                    new_frontier_start.append(neighbor)\n",
        "                    visited_start.add(neighbor)\n",
        "\n",
        "                    if neighbor in visited_end:\n",
        "                        intersection=neighbor\n",
        "                        path_start=bfs(graph,start,intersection)\n",
        "                        path_end=bfs(graph,goal,intersection)[::-1][1:]  # Reverse end path and remove intersection node\n",
        "                        print(\"Intersection:\",intersection)\n",
        "                        print(\"Path from start:\",path_start)\n",
        "                        print(\"Path from goal:\",path_end)\n",
        "                        return path_start+path_end\n",
        "\n",
        "        frontier_start=new_frontier_start\n",
        "\n",
        "        # Explore from goal node\n",
        "        new_frontier_end=[]\n",
        "        for node in frontier_end:\n",
        "            for neighbor in graph[node]:\n",
        "                if neighbor not in visited_end:\n",
        "                    new_frontier_end.append(neighbor)\n",
        "                    visited_end.add(neighbor)\n",
        "\n",
        "                    if neighbor in visited_start:\n",
        "                        intersection=neighbor\n",
        "                        path_start=bfs(graph, start, intersection)\n",
        "                        path_end=bfs(graph, goal, intersection)[::-1][1:]  # Reverse end path and remove intersection node\n",
        "                        print(\"Intersection:\",intersection)\n",
        "                        print(\"Path from start:\",path_start)\n",
        "                        print(\"Path from goal:\",path_end)\n",
        "                        return path_start+path_end\n",
        "\n",
        "        frontier_end=new_frontier_end\n",
        "\n",
        "    return None  # No path found\n",
        "\n",
        "\n",
        "def bfs(graph, start, goal):\n",
        "    if start == goal:\n",
        "        return [start]\n",
        "\n",
        "    visited={start}\n",
        "    frontier=[[start]]\n",
        "\n",
        "    while frontier:\n",
        "        new_frontier=[]\n",
        "        for path in frontier:\n",
        "            node=path[-1]\n",
        "            for neighbor in graph[node]:\n",
        "                if neighbor not in visited:\n",
        "                    new_path=path + [neighbor]\n",
        "                    if neighbor==goal:\n",
        "                        return new_path\n",
        "                    new_frontier.append(new_path)\n",
        "                    visited.add(neighbor)\n",
        "        frontier=new_frontier\n",
        "\n",
        "    return None  # No path found\n",
        "\n",
        "\n",
        "\n",
        "graph = {\n",
        "    0: [1, 2],\n",
        "    1: [0, 3],\n",
        "    2: [0, 3, 4],\n",
        "    3: [1, 2, 5],\n",
        "    4: [2, 5],\n",
        "    5: [3, 4]\n",
        "}\n",
        "\n",
        "start = 0\n",
        "goal = 5\n",
        "print(\"Path found:\", bidirectional_bfs(graph, start, goal))\n"
      ],
      "id": "N5CwjwBhi7KB"
    },
    {
      "cell_type": "markdown",
      "source": [
        "# **Iterative Deepening Search**"
      ],
      "metadata": {
        "id": "Rx47ewS9yVk_"
      },
      "id": "Rx47ewS9yVk_"
    },
    {
      "cell_type": "code",
      "source": [
        "def IDDFS(start,goal,max_depth,graph):\n",
        "    for limit in range(max_depth+1):\n",
        "        if DLS(start,goal,limit,graph):\n",
        "            return True\n",
        "    return False\n",
        "\n",
        "def DLS(start,goal,limit,graph):\n",
        "    if start==goal:\n",
        "        return True\n",
        "\n",
        "    if limit<=0:\n",
        "        return False\n",
        "\n",
        "    for neighbor in graph[start]:\n",
        "        if DLS(neighbor,goal,limit-1,graph):\n",
        "            return True\n",
        "\n",
        "    return False\n",
        "\n",
        "\n",
        "# Create graph\n",
        "graph = {\n",
        "    0: [1, 2],\n",
        "    1: [0, 3],\n",
        "    2: [0, 3, 4],\n",
        "    3: [1, 2, 5],\n",
        "    4: [2, 5],\n",
        "    5: [3, 4]\n",
        "}\n",
        "\n",
        "start = 0\n",
        "goal = 5\n",
        "max_depth = 3  # Maximum depth for iterative deepening\n",
        "\n",
        "id=IDDFS(start, goal, max_depth, graph)\n",
        "if(id==True):\n",
        "  print(\"Target is reachable within max depth\")\n",
        "else:\n",
        "  print(\"Target is not reachable within max depth\")\n"
      ],
      "metadata": {
        "colab": {
          "base_uri": "https://localhost:8080/"
        },
        "id": "SdjvN7oewRU_",
        "outputId": "dd4a9778-a521-46e9-b4af-93acc5426137"
      },
      "id": "SdjvN7oewRU_",
      "execution_count": 1,
      "outputs": [
        {
          "output_type": "stream",
          "name": "stdout",
          "text": [
            "Target is reachable within max depth\n"
          ]
        }
      ]
    },
    {
      "cell_type": "markdown",
      "metadata": {
        "id": "d9123fa6"
      },
      "source": [
        "# **8-PUZZLE**(Optional)"
      ],
      "id": "d9123fa6"
    },
    {
      "cell_type": "markdown",
      "metadata": {
        "id": "QSKejzAmEoEZ"
      },
      "source": [
        "## Using BFS"
      ],
      "id": "QSKejzAmEoEZ"
    },
    {
      "cell_type": "code",
      "execution_count": null,
      "metadata": {
        "colab": {
          "base_uri": "https://localhost:8080/"
        },
        "id": "dd1e7125",
        "outputId": "c648b8e0-2822-49f4-8369-42cc702e7b9d"
      },
      "outputs": [
        {
          "name": "stdout",
          "output_type": "stream",
          "text": [
            "Goal found\n",
            "Total steps: 3\n",
            "[1, 2, 3, 0, 4, 6, 7, 5, 8]\n",
            "[1, 2, 3, 4, 0, 6, 7, 5, 8]\n",
            "[1, 2, 3, 4, 5, 6, 7, 0, 8]\n",
            "[1, 2, 3, 4, 5, 6, 7, 8, 0]\n"
          ]
        }
      ],
      "source": [
        "initial=[1,2,3,0,4,6,7,5,8]\n",
        "goal=[1,2,3,4,5,6,7,8,0]\n",
        "def puzzle(initial):\n",
        "    visited=[]\n",
        "    frontier=[(initial,[])]\n",
        "    while frontier:\n",
        "        state,path=frontier.pop(0)\n",
        "        visited.append(state)\n",
        "        if state==goal:\n",
        "            print(\"Goal found\")\n",
        "            return len(path),path+[(goal,[])]\n",
        "        index=state.index(0)\n",
        "        moves=[]\n",
        "        if index==0:\n",
        "            moves=[1,3]\n",
        "        elif index==1:\n",
        "            moves=[0,2,4]\n",
        "        elif index==2:\n",
        "            moves=[1,5]\n",
        "        elif index==3:\n",
        "            moves=[0,4,6]\n",
        "        elif index==4:\n",
        "            moves=[1,3,5,7]\n",
        "        elif index==5:\n",
        "            moves=[2,4,8]\n",
        "        elif index==6:\n",
        "            moves=[3,7]\n",
        "        elif index==7:\n",
        "            moves=[6,4,8]\n",
        "        elif index==8:\n",
        "            moves=[5,7]\n",
        "        for move in moves:\n",
        "            state1=state.copy()\n",
        "            state1[index]=state1[move]\n",
        "            state1[move]=0\n",
        "            if state1 not in visited:\n",
        "                frontier.append((state1,path+[(state,state1)]))\n",
        "    return False\n",
        "\n",
        "steps,path=puzzle(initial)\n",
        "print(\"Total steps:\",steps)\n",
        "for step in path:\n",
        "    print(step[0])\n",
        "\n"
      ],
      "id": "dd1e7125"
    },
    {
      "cell_type": "markdown",
      "metadata": {
        "id": "u5A0bVvWEr0d"
      },
      "source": [
        "##  Using DFS"
      ],
      "id": "u5A0bVvWEr0d"
    },
    {
      "cell_type": "code",
      "execution_count": null,
      "metadata": {
        "colab": {
          "base_uri": "https://localhost:8080/"
        },
        "id": "lk1OFairEvLD",
        "outputId": "21dcd33c-4e37-4468-f6b1-e695044585e0"
      },
      "outputs": [
        {
          "name": "stdout",
          "output_type": "stream",
          "text": [
            "Goal found\n",
            "Total steps: 31\n",
            "[1, 2, 3, 0, 4, 6, 7, 5, 8]\n",
            "[1, 2, 3, 7, 4, 6, 0, 5, 8]\n",
            "[1, 2, 3, 7, 4, 6, 5, 0, 8]\n",
            "[1, 2, 3, 7, 4, 6, 5, 8, 0]\n",
            "[1, 2, 3, 7, 4, 0, 5, 8, 6]\n",
            "[1, 2, 3, 7, 0, 4, 5, 8, 6]\n",
            "[1, 2, 3, 7, 8, 4, 5, 0, 6]\n",
            "[1, 2, 3, 7, 8, 4, 5, 6, 0]\n",
            "[1, 2, 3, 7, 8, 0, 5, 6, 4]\n",
            "[1, 2, 3, 7, 0, 8, 5, 6, 4]\n",
            "[1, 2, 3, 7, 6, 8, 5, 0, 4]\n",
            "[1, 2, 3, 7, 6, 8, 5, 4, 0]\n",
            "[1, 2, 3, 7, 6, 0, 5, 4, 8]\n",
            "[1, 2, 3, 7, 0, 6, 5, 4, 8]\n",
            "[1, 2, 3, 0, 7, 6, 5, 4, 8]\n",
            "[1, 2, 3, 5, 7, 6, 0, 4, 8]\n",
            "[1, 2, 3, 5, 7, 6, 4, 0, 8]\n",
            "[1, 2, 3, 5, 7, 6, 4, 8, 0]\n",
            "[1, 2, 3, 5, 7, 0, 4, 8, 6]\n",
            "[1, 2, 3, 5, 0, 7, 4, 8, 6]\n",
            "[1, 2, 3, 5, 8, 7, 4, 0, 6]\n",
            "[1, 2, 3, 5, 8, 7, 4, 6, 0]\n",
            "[1, 2, 3, 5, 8, 0, 4, 6, 7]\n",
            "[1, 2, 3, 5, 0, 8, 4, 6, 7]\n",
            "[1, 2, 3, 5, 6, 8, 4, 0, 7]\n",
            "[1, 2, 3, 5, 6, 8, 4, 7, 0]\n",
            "[1, 2, 3, 5, 6, 0, 4, 7, 8]\n",
            "[1, 2, 3, 5, 0, 6, 4, 7, 8]\n",
            "[1, 2, 3, 0, 5, 6, 4, 7, 8]\n",
            "[1, 2, 3, 4, 5, 6, 0, 7, 8]\n",
            "[1, 2, 3, 4, 5, 6, 7, 0, 8]\n",
            "[1, 2, 3, 4, 5, 6, 7, 8, 0]\n"
          ]
        }
      ],
      "source": [
        "initial=[1,2,3,0,4,6,7,5,8]\n",
        "goal=[1,2,3,4,5,6,7,8,0]\n",
        "def puzzle(initial):\n",
        "    visited=[]\n",
        "    frontier=[(initial,[])]\n",
        "    while frontier:\n",
        "        state,path=frontier.pop()\n",
        "        visited.append(state)\n",
        "        if state==goal:\n",
        "            print(\"Goal found\")\n",
        "            return len(path),path+[(goal,[])]\n",
        "        index=state.index(0)\n",
        "        moves=[]\n",
        "        if index==0:\n",
        "            moves=[1,3]\n",
        "        elif index==1:\n",
        "            moves=[0,2,4]\n",
        "        elif index==2:\n",
        "            moves=[1,5]\n",
        "        elif index==3:\n",
        "            moves=[0,4,6]\n",
        "        elif index==4:\n",
        "            moves=[1,3,5,7]\n",
        "        elif index==5:\n",
        "            moves=[2,4,8]\n",
        "        elif index==6:\n",
        "            moves=[3,7]\n",
        "        elif index==7:\n",
        "            moves=[6,4,8]\n",
        "        elif index==8:\n",
        "            moves=[5,7]\n",
        "        for move in moves:\n",
        "            state1=state.copy()\n",
        "            state1[index]=state1[move]\n",
        "            state1[move]=0\n",
        "            if state1 not in visited:\n",
        "                frontier.append((state1,path+[(state,state1)]))\n",
        "    return False\n",
        "\n",
        "steps,path=puzzle(initial)\n",
        "print(\"Total steps:\",steps)\n",
        "for step in path:\n",
        "    print(step[0])\n",
        "\n"
      ],
      "id": "lk1OFairEvLD"
    }
  ],
  "metadata": {
    "colab": {
      "collapsed_sections": [
        "2aeb4d0e",
        "a3f1df8b",
        "lkyx9U8ZIECS",
        "lm70zo_TeToQ",
        "Rx47ewS9yVk_",
        "QSKejzAmEoEZ"
      ],
      "provenance": []
    },
    "kernelspec": {
      "display_name": "Python 3 (ipykernel)",
      "language": "python",
      "name": "python3"
    },
    "language_info": {
      "codemirror_mode": {
        "name": "ipython",
        "version": 3
      },
      "file_extension": ".py",
      "mimetype": "text/x-python",
      "name": "python",
      "nbconvert_exporter": "python",
      "pygments_lexer": "ipython3",
      "version": "3.11.3"
    }
  },
  "nbformat": 4,
  "nbformat_minor": 5
}